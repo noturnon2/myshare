{
  "nbformat": 4,
  "nbformat_minor": 0,
  "metadata": {
    "colab": {
      "provenance": [],
      "authorship_tag": "ABX9TyPf7cG3+ZCMgJzcX6PrZuwZ",
      "include_colab_link": true
    },
    "kernelspec": {
      "name": "python3",
      "display_name": "Python 3"
    },
    "language_info": {
      "name": "python"
    }
  },
  "cells": [
    {
      "cell_type": "markdown",
      "metadata": {
        "id": "view-in-github",
        "colab_type": "text"
      },
      "source": [
        "<a href=\"https://colab.research.google.com/github/noturnon2/myshare/blob/master/CodeTank2023.ipynb\" target=\"_parent\"><img src=\"https://colab.research.google.com/assets/colab-badge.svg\" alt=\"Open In Colab\"/></a>"
      ]
    },
    {
      "cell_type": "code",
      "execution_count": 70,
      "metadata": {
        "colab": {
          "base_uri": "https://localhost:8080/"
        },
        "id": "XfaWOFFOy2m-",
        "outputId": "77f5605f-a657-4bab-fc8f-f4b5521dae53"
      },
      "outputs": [
        {
          "output_type": "stream",
          "name": "stdout",
          "text": [
            "Olá Mundo Luiz ['Python 3.10.11']\n",
            "Last Name: Marques\n",
            "Data de Hoje: 25/05/2023,  17:33 \n",
            "<class 'str'>\n",
            "<class 'int'>\n",
            "<class 'datetime.datetime'>\n",
            "<class 'float'>\n",
            "<class 'bool'>\n",
            "<class 'IPython.utils.text.SList'>\n",
            "Qual linguagem de programação que você está estudando? Python\n",
            "A linguagem que você está estudando é:  Python\n"
          ]
        }
      ],
      "source": [
        "#Aprendizado em Python\n",
        "\"\"\"\n",
        "Isso é um cometario\n",
        "isso ainda é um comentário\n",
        "\n",
        "\"\"\"\n",
        "from datetime import datetime, timezone\n",
        "hoje= datetime.utcnow()\n",
        "nome=\"Luiz\"\n",
        "version= !python --version\n",
        "print(\"Olá Mundo\", nome, version)\n",
        "\n",
        "sobrenome= \"Marques\"\n",
        "print(f\"Last Name: {sobrenome}\")\n",
        "print(f\"Data de Hoje: {hoje:%d/%m/%Y}, {hoje: %H:%M}\")\n",
        "\n",
        "#Variáveis\n",
        "\n",
        "idade=38\n",
        "altura=1.61\n",
        "estudando= True\n",
        "\n",
        "print(type(nome))\n",
        "print(type(idade))\n",
        "print(type(hoje))\n",
        "print(type(altura))\n",
        "print(type(estudando))\n",
        "print(type(version))\n",
        "\n",
        "linguagem = input(\"Qual linguagem de programação que você está estudando? \")\n",
        "print(\"A linguagem que você está estudando é: \", linguagem)"
      ]
    },
    {
      "cell_type": "code",
      "source": [
        "#Operadores\n",
        "\n",
        "\"\"\"\n",
        "- soma: +\n",
        "- subtração: -\n",
        "- Multipliação: *\n",
        "- Divisão: /\n",
        "- Divisão inteira: //\n",
        "- Resto da Divisão: %\n",
        "- Potênia: **\n",
        "\n",
        "\"\"\"\n",
        "numero1=20\n",
        "numero2=10\n",
        "\n",
        "print(numero1 + numero2)\n",
        "print(numero1 - numero2)\n",
        "print(numero1 * numero2)\n",
        "print(numero1 / numero2)\n",
        "print(numero1 // numero2)\n",
        "print(numero1 ** numero2)\n",
        "print(numero2 % numero1)\n",
        "print(2 ** numero2)\n",
        "print(20 // 3)\n",
        "print(20 % 3, \"\\n\")\n",
        "print(\"Print Hello World!\", sep=' ', end='\\n', flush=False)\n",
        "\n",
        "#Operadores Booleanos\n",
        "\n",
        "idade1=10\n",
        "idade2=15\n",
        "altura1=1.80\n",
        "altura2=1.61\n",
        "altura3=altura2\n",
        "\n",
        "print(idade1 > idade2)\n",
        "print(idade1 <= idade2)\n",
        "print(\"abacaxi\" != \"banana\")\n",
        "print(\"Python\" == \"pytohon\")\n",
        "print(altura1 >= altura2)\n",
        "print(altura2 > altura3)"
      ],
      "metadata": {
        "colab": {
          "base_uri": "https://localhost:8080/"
        },
        "id": "Mni6aisE6Tw3",
        "outputId": "f0e29158-1894-4a41-d960-513ae66d5fa7"
      },
      "execution_count": 86,
      "outputs": [
        {
          "output_type": "stream",
          "name": "stdout",
          "text": [
            "30\n",
            "10\n",
            "200\n",
            "2.0\n",
            "2\n",
            "10240000000000\n",
            "10\n",
            "1024\n",
            "6\n",
            "2 \n",
            "\n",
            "Print Hello World!\n",
            "False\n",
            "True\n",
            "True\n",
            "False\n",
            "True\n",
            "False\n"
          ]
        }
      ]
    },
    {
      "cell_type": "code",
      "source": [
        "#Conversão de tipos\n",
        "\n",
        "idade= '26'\n",
        "numero1= '10'\n",
        "numero2= '20'\n",
        "print(numero1 + numero2)\n",
        "print(idade, type(idade))\n",
        "idade_inteira = int(idade)\n",
        "print(idade, type(idade))\n",
        "\n",
        "\"\"\"\n",
        "int()\n",
        "str()\n",
        "float()\n",
        "bool()\n",
        "\"\"\"\n",
        "\n",
        "peso=input('Informe seu peso: ')\n",
        "print(peso, type(peso))\n",
        "altura=float(input('Informe sua altura: '))\n",
        "print(altura, type(altura))\n",
        "peso = float(peso)\n",
        "imc= peso / (altura * altura)\n",
        "print(imc)"
      ],
      "metadata": {
        "colab": {
          "base_uri": "https://localhost:8080/"
        },
        "id": "5E4uJCKkE50h",
        "outputId": "8dc60312-8134-44e3-c6f8-43a6aa0347f7"
      },
      "execution_count": 99,
      "outputs": [
        {
          "output_type": "stream",
          "name": "stdout",
          "text": [
            "1020\n",
            "26 <class 'str'>\n",
            "26 <class 'str'>\n",
            "Informe seu peso: 65.3\n",
            "65.3 <class 'str'>\n",
            "Informe sua altura: 1.61\n",
            "1.61 <class 'float'>\n",
            "25.19192932371436\n",
            "21.0\n"
          ]
        }
      ]
    },
    {
      "cell_type": "code",
      "source": [
        "for i in range (0, 30, 3):\n",
        "  if i < 29:\n",
        "    print(i, end=\", \")\n",
        "  else:\n",
        "      print(i)\n",
        "\n",
        "print(\"\\n\")\n",
        "data = [1,2,3,4,5,6,7,8,9,10]\n",
        "\n",
        "for num in range (len(data)):\n",
        "  print(data[num], end=\", \")\n",
        "\n",
        "print(\"\\n\")\n",
        "for num in range (len(data)):\n",
        "  print(data[num], sep=\", \")"
      ],
      "metadata": {
        "colab": {
          "base_uri": "https://localhost:8080/"
        },
        "id": "RCo08AfB27mW",
        "outputId": "6348de95-324c-496e-b113-069599fe11ad"
      },
      "execution_count": 18,
      "outputs": [
        {
          "output_type": "stream",
          "name": "stdout",
          "text": [
            "0, 3, 6, 9, 12, 15, 18, 21, 24, 27, \n",
            "\n",
            "1, 2, 3, 4, 5, 6, 7, 8, 9, 10, \n",
            "\n",
            "1\n",
            "2\n",
            "3\n",
            "4\n",
            "5\n",
            "6\n",
            "7\n",
            "8\n",
            "9\n",
            "10\n"
          ]
        }
      ]
    }
  ]
}