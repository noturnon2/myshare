{
  "nbformat": 4,
  "nbformat_minor": 0,
  "metadata": {
    "colab": {
      "provenance": [],
      "authorship_tag": "ABX9TyNVh3M11cQCoMR2urPfY61R",
      "include_colab_link": true
    },
    "kernelspec": {
      "name": "python3",
      "display_name": "Python 3"
    },
    "language_info": {
      "name": "python"
    }
  },
  "cells": [
    {
      "cell_type": "markdown",
      "metadata": {
        "id": "view-in-github",
        "colab_type": "text"
      },
      "source": [
        "<a href=\"https://colab.research.google.com/github/noturnon2/myshare/blob/master/Aula_Regressao.ipynb\" target=\"_parent\"><img src=\"https://colab.research.google.com/assets/colab-badge.svg\" alt=\"Open In Colab\"/></a>"
      ]
    },
    {
      "cell_type": "code",
      "execution_count": null,
      "metadata": {
        "id": "fWiwkFFQcZRZ",
        "outputId": "d650f0fb-5963-4453-d3d1-7d02169b87bf",
        "colab": {
          "base_uri": "https://localhost:8080/"
        }
      },
      "outputs": [
        {
          "output_type": "stream",
          "name": "stdout",
          "text": [
            "                            OLS Regression Results                            \n",
            "==============================================================================\n",
            "Dep. Variable:                  tempo   R-squared:                       0.819\n",
            "Model:                            OLS   Adj. R-squared:                  0.797\n",
            "Method:                 Least Squares   F-statistic:                     36.30\n",
            "Date:                Tue, 31 Oct 2023   Prob (F-statistic):           0.000314\n",
            "Time:                        18:50:16   Log-Likelihood:                -32.123\n",
            "No. Observations:                  10   AIC:                             68.25\n",
            "Df Residuals:                       8   BIC:                             68.85\n",
            "Df Model:                           1                                         \n",
            "Covariance Type:            nonrobust                                         \n",
            "==============================================================================\n",
            "                 coef    std err          t      P>|t|      [0.025      0.975]\n",
            "------------------------------------------------------------------------------\n",
            "const          5.8784      4.532      1.297      0.231      -4.573      16.330\n",
            "distancia      1.4189      0.235      6.025      0.000       0.876       1.962\n",
            "==============================================================================\n",
            "Omnibus:                        1.016   Durbin-Watson:                   2.099\n",
            "Prob(Omnibus):                  0.602   Jarque-Bera (JB):                0.694\n",
            "Skew:                          -0.262   Prob(JB):                        0.707\n",
            "Kurtosis:                       1.820   Cond. No.                         41.1\n",
            "==============================================================================\n",
            "\n",
            "Notes:\n",
            "[1] Standard Errors assume that the covariance matrix of the errors is correctly specified.\n"
          ]
        },
        {
          "output_type": "stream",
          "name": "stderr",
          "text": [
            "/usr/local/lib/python3.10/dist-packages/scipy/stats/_stats_py.py:1806: UserWarning: kurtosistest only valid for n>=20 ... continuing anyway, n=10\n",
            "  warnings.warn(\"kurtosistest only valid for n>=20 ... continuing \"\n"
          ]
        }
      ],
      "source": [
        "import pandas as pd\n",
        "import statsmodels.api as sm\n",
        "\n",
        "# Cria o data frame com os dados utilizados:\n",
        "tempo = [15,20,20,40,50,25,10,55,35,30]\n",
        "distancia = [8,6,15,20,25,11,5,32,28,20]\n",
        "df = pd.DataFrame({'tempo': tempo, 'distancia': distancia})\n",
        "\n",
        "# Separa as variáveis preditora (x) e resposta (y) para o ajuste:\n",
        "x = df['distancia']\n",
        "y = df['tempo']\n",
        "\n",
        "# Adiciona uma coluna de constante 1\n",
        "# para o cálculo coeficiente linear (intercepto):\n",
        "x = sm.add_constant(x)\n",
        "\n",
        "# Ajusta o modelo:\n",
        "resultado = sm.OLS(y, x).fit()\n",
        "\n",
        "# Verifica a saída:\n",
        "print(resultado.summary())"
      ]
    },
    {
      "cell_type": "code",
      "source": [
        "df['tempo'].var().round(2)\n",
        "\n",
        "df['tempo_media'] = df['tempo'].mean()\n",
        "\n",
        "df['tempo_diff^2'] = (df['tempo'] - df['tempo_media'])**2\n",
        "\n",
        "n = len(df)\n",
        "\n",
        "soma_quadrados = df['tempo_diff^2'].sum()\n",
        "\n",
        "soma_quadrados / (n-1)\n"
      ],
      "metadata": {
        "colab": {
          "base_uri": "https://localhost:8080/"
        },
        "id": "tPQd7QbOEcvJ",
        "outputId": "efbb8f19-c7ba-43fd-f2a8-30174c2bf839"
      },
      "execution_count": null,
      "outputs": [
        {
          "output_type": "execute_result",
          "data": {
            "text/plain": [
              "222.22222222222223"
            ]
          },
          "metadata": {},
          "execution_count": 11
        }
      ]
    }
  ]
}