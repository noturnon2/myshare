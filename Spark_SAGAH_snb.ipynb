{
  "cells": [
    {
      "cell_type": "markdown",
      "metadata": {
        "id": "view-in-github",
        "colab_type": "text"
      },
      "source": [
        "<a href=\"https://colab.research.google.com/github/noturnon2/myshare/blob/master/Spark_SAGAH_snb.ipynb\" target=\"_parent\"><img src=\"https://colab.research.google.com/assets/colab-badge.svg\" alt=\"Open In Colab\"/></a>"
      ]
    },
    {
      "cell_type": "markdown",
      "metadata": {
        "id": "DC16BF67890349F580549428C0848BB2"
      },
      "source": [
        "# Exemplos - Desenvolvedores por linguagem em uma empresa"
      ]
    },
    {
      "cell_type": "code",
      "execution_count": 5,
      "metadata": {
        "id": "D3BAD6370D1B4EB98988845E1A09F323",
        "input_collapsed": false,
        "colab": {
          "base_uri": "https://localhost:8080/",
          "height": 111
        },
        "outputId": "784ada6e-0a1d-489c-dfce-201ed895080d"
      },
      "outputs": [
        {
          "output_type": "error",
          "ename": "ERROR",
          "evalue": "Error in parse(text = input): <text>:1:6: unexpected symbol\n1: case class\n         ^\n",
          "traceback": [
            "Error in parse(text = input): <text>:1:6: unexpected symbol\n1: case class\n         ^\nTraceback:\n"
          ]
        }
      ],
      "source": [
        "case class Linguagens(nome: String, quant: Int)"
      ]
    },
    {
      "cell_type": "code",
      "execution_count": null,
      "metadata": {
        "id": "37B690E0CA6D41F380EA548312EFB490",
        "input_collapsed": false,
        "colab": {
          "base_uri": "https://localhost:8080/",
          "height": 111
        },
        "outputId": "594ecdd3-8b5b-4e2a-9903-b42dca1d4a6e"
      },
      "outputs": [
        {
          "output_type": "error",
          "ename": "ERROR",
          "evalue": "Error in parse(text = input): <text>:1:5: unexpected symbol\n1: val bar\n        ^\n",
          "traceback": [
            "Error in parse(text = input): <text>:1:5: unexpected symbol\n1: val bar\n        ^\nTraceback:\n"
          ]
        }
      ],
      "source": [
        "val bar = CustomPlotlyChart(Seq(Linguagens(\"Java\", 20), Linguagens(\"R\", 14), Linguagens(\"Python\", 23)),\n",
        "                            dataOptions=\"{type: 'bar'}\",\n",
        "                            dataSources=\"{x: 'nome', y: 'quant'}\")\n",
        "bar"
      ]
    },
    {
      "cell_type": "markdown",
      "metadata": {
        "id": "DBBAACCB57184BE2B6C65626FC34DE10"
      },
      "source": [
        "Adicionando outra linguagem"
      ]
    },
    {
      "cell_type": "code",
      "execution_count": null,
      "metadata": {
        "id": "D1B89BB61C3A4E608D7A0AFA4BF87D9E",
        "input_collapsed": false,
        "colab": {
          "base_uri": "https://localhost:8080/",
          "height": 74
        },
        "outputId": "4ebfedfc-a645-4ca4-e35d-d7cccf4a431d"
      },
      "outputs": [
        {
          "output_type": "error",
          "ename": "ERROR",
          "evalue": "Error in bar.addAndApply(Seq(Linguagens(\"Julia\", 5))): could not find function \"bar.addAndApply\"\n",
          "traceback": [
            "Error in bar.addAndApply(Seq(Linguagens(\"Julia\", 5))): could not find function \"bar.addAndApply\"\nTraceback:\n"
          ]
        }
      ],
      "source": [
        "bar.addAndApply(Seq(Linguagens(\"Julia\", 5)))"
      ]
    },
    {
      "cell_type": "markdown",
      "metadata": {
        "id": "D1B98FEC63BC46B8BD9E5F5542A8F58C"
      },
      "source": [
        "## Barras agrupadas"
      ]
    },
    {
      "cell_type": "code",
      "execution_count": null,
      "metadata": {
        "id": "02492FA6AD294A009934D421EE7F3B8A",
        "input_collapsed": false
      },
      "outputs": [],
      "source": [
        "case class Linguagens(nome: String, quant: Int, local: String)\n",
        "\n",
        "val locals = Seq(Linguagens(\"Java\", 20, \"SP\"), Linguagens(\"R\", 14, \"SP\"), Linguagens(\"Python\", 23, \"SP\"),\n",
        "               Linguagens(\"Java\", 12, \"RJ\"), Linguagens(\"R\", 18, \"RJ\"), Linguagens(\"Python\", 29, \"RJ\"))"
      ]
    },
    {
      "cell_type": "code",
      "execution_count": null,
      "metadata": {
        "id": "8DEEA2C0D82144F0A65A90B24818D0BB",
        "input_collapsed": false
      },
      "outputs": [],
      "source": [
        "CustomPlotlyChart(locais,\n",
        "                  layout=\"{barmode: 'group'}\",\n",
        "                  dataOptions=\"{splitBy: 'local', type: 'bar'}\",\n",
        "                  dataSources=\"{x: 'nome', y: 'quant'}\")"
      ]
    },
    {
      "cell_type": "markdown",
      "metadata": {
        "id": "D7BCB24EFF2D47A7B1C7B0B5ECE9083B",
        "input_collapsed": false
      },
      "source": [
        "## Barras empilhadas"
      ]
    },
    {
      "cell_type": "code",
      "execution_count": null,
      "metadata": {
        "id": "9745838191BF4CD09D09F9C4DD113BAE",
        "input_collapsed": false
      },
      "outputs": [],
      "source": [
        "CustomPlotlyChart(locais,\n",
        "                  layout=\"{barmode: 'stack'}\",\n",
        "                  dataOptions=\"{splitBy: 'local', type: 'bar'}\",\n",
        "                  dataSources=\"{x: 'nome', y: 'quant'}\")"
      ]
    },
    {
      "cell_type": "markdown",
      "metadata": {
        "id": "54B4A25431F449E68FCFC890ECBC3A48"
      },
      "source": [
        "# Outros exemplos\n",
        "## Gráfico de bolhas"
      ]
    },
    {
      "cell_type": "code",
      "execution_count": null,
      "metadata": {
        "id": "C8C567289BC5479185BAA847D4F384F1",
        "input_collapsed": false
      },
      "outputs": [],
      "source": [
        "val bubbles = Seq(\n",
        "  (1, 10, 40, \"magenta\"), (2, 11, 60, \"lightblue\"), (3, 12, 80, \"lightgreen\"), (4, 13, 100, \"pink\")\n",
        ").toDF(\"xPos\", \"yPos\", \"bubbleSize\", \"color\")"
      ]
    },
    {
      "cell_type": "code",
      "execution_count": null,
      "metadata": {
        "id": "DCFEBDE6B0FD487095DF8F91DBFDB6B9",
        "input_collapsed": false
      },
      "outputs": [],
      "source": [
        "CustomPlotlyChart(bubbles,\n",
        "                  layout=\"{title: 'Marker Size', showlegend: false, height: 600, width: 600}\",\n",
        "                  dataOptions=\"{mode: 'markers'}\",\n",
        "                  dataSources=\"{x: 'xPos', y: 'yPos', marker: {size: 'bubbleSize', color: 'color'}}\")"
      ]
    },
    {
      "cell_type": "markdown",
      "metadata": {
        "id": "2A37AC07E19A474C87D5D5C6E83D92EA"
      },
      "source": [
        "# Box Plots"
      ]
    },
    {
      "cell_type": "code",
      "execution_count": null,
      "metadata": {
        "id": "B382460D9CC3491684287350D3E7C29A",
        "input_collapsed": false
      },
      "outputs": [],
      "source": [
        "import scala.util.Random"
      ]
    },
    {
      "cell_type": "code",
      "execution_count": null,
      "metadata": {
        "id": "C9B2826834564DE7909B0326D6D26F1F",
        "input_collapsed": false,
        "presentation": {
          "pivot_chart_state": "{\n  \"hiddenAttributes\": [],\n  \"menuLimit\": 200,\n  \"cols\": [],\n  \"rows\": [],\n  \"vals\": [],\n  \"exclusions\": {},\n  \"inclusions\": {},\n  \"unusedAttrsVertical\": 85,\n  \"autoSortUnusedAttrs\": false,\n  \"inclusionsInfo\": {},\n  \"aggregatorName\": \"Count\",\n  \"rendererName\": \"Table\"\n}",
          "tabs_state": "{\n  \"tab_id\": \"#tab1506371030-0\"\n}"
        }
      },
      "outputs": [],
      "source": [
        "val samples = (0 until 50)\n",
        "      .flatMap(_ => Seq(Tuple2(Random.nextDouble(), \"A\"), Tuple2(Random.nextDouble() + 0.3, \"B\")))\n",
        "      .toDF(\"sample\", \"cls\")"
      ]
    },
    {
      "cell_type": "code",
      "execution_count": null,
      "metadata": {
        "id": "A996270615E64465B14E52AB4F284D04",
        "input_collapsed": false
      },
      "outputs": [],
      "source": [
        "CustomPlotlyChart(samples,\n",
        "                  dataOptions=\"{type: 'box', splitBy: 'cls'}\",\n",
        "                  dataSources=\"{y: 'sample'}\")"
      ]
    },
    {
      "cell_type": "markdown",
      "metadata": {
        "id": "02F91B8B83D94445949469AC18B04202"
      },
      "source": [
        "## Histograma"
      ]
    },
    {
      "cell_type": "code",
      "execution_count": null,
      "metadata": {
        "id": "CA01CCB1DF62497A846AB394FC065783",
        "input_collapsed": false
      },
      "outputs": [],
      "source": [
        "val samples = (0 until 500)\n",
        "      .map(Tuple2(_, Random.nextGaussian))\n",
        "      .toDF(\"sampleNum\", \"value\")"
      ]
    },
    {
      "cell_type": "code",
      "execution_count": null,
      "metadata": {
        "id": "ABE8C7235A134A44854F1D0F0599FD48",
        "input_collapsed": false
      },
      "outputs": [],
      "source": [
        "CustomPlotlyChart(samples,\n",
        "                  dataOptions=\"{type: 'histogram', opacity: 0.7}\",\n",
        "                  dataSources=\"{x: 'value'}\")"
      ]
    },
    {
      "cell_type": "markdown",
      "metadata": {
        "id": "AA9EF856B7364E558D1686E7ED870D36"
      },
      "source": [
        "# Histograma 2D"
      ]
    },
    {
      "cell_type": "code",
      "execution_count": null,
      "metadata": {
        "id": "B6B1B3D81E8B41AB93BC70004293F670",
        "input_collapsed": false
      },
      "outputs": [],
      "source": [
        "val samples = (0 until 500)\n",
        "      .map(_ => Tuple2(Random.nextGaussian, Random.nextGaussian + 1))\n",
        "      .toDF(\"x\", \"y\")"
      ]
    },
    {
      "cell_type": "code",
      "execution_count": null,
      "metadata": {
        "id": "C5045FCEB2334F9596736D84BFE06AB5",
        "input_collapsed": false
      },
      "outputs": [],
      "source": [
        "CustomPlotlyChart(samples,\n",
        "                  dataOptions=\"{type: 'histogram2d', opacity: 0.8}\",\n",
        "                  dataSources=\"{x: 'x', y: 'y'}\")"
      ]
    }
  ],
  "metadata": {
    "auto_save_timestamp": "1970-01-01T03:00:00.000Z",
    "customArgs": null,
    "customDeps": null,
    "customImports": null,
    "customLocalRepo": null,
    "customRepos": null,
    "customSparkConf": null,
    "customVars": null,
    "id": "3e35c4c1-fcc9-4ab6-9f6d-6aedd16060d1",
    "kernelspec": {
      "display_name": "Python 3",
      "name": "python3"
    },
    "language_info": {
      "name": "python"
    },
    "name": "Custom Plotly Charts",
    "sparkNotebook": null,
    "trusted": true,
    "user_save_timestamp": "1111-10-12T09:00:00.000Z",
    "colab": {
      "provenance": [],
      "include_colab_link": true
    }
  },
  "nbformat": 4,
  "nbformat_minor": 0
}