{
  "nbformat": 4,
  "nbformat_minor": 0,
  "metadata": {
    "colab": {
      "provenance": [],
      "authorship_tag": "ABX9TyMSirzN2g0OFuS2NQsK+C94",
      "include_colab_link": true
    },
    "kernelspec": {
      "name": "python3",
      "display_name": "Python 3"
    },
    "language_info": {
      "name": "python"
    }
  },
  "cells": [
    {
      "cell_type": "markdown",
      "metadata": {
        "id": "view-in-github",
        "colab_type": "text"
      },
      "source": [
        "<a href=\"https://colab.research.google.com/github/noturnon2/myshare/blob/master/Jogo_da_Velha_Python.ipynb\" target=\"_parent\"><img src=\"https://colab.research.google.com/assets/colab-badge.svg\" alt=\"Open In Colab\"/></a>"
      ]
    },
    {
      "cell_type": "code",
      "execution_count": null,
      "metadata": {
        "colab": {
          "base_uri": "https://localhost:8080/"
        },
        "id": "aKzPxIeRRY24",
        "outputId": "9b3a1f52-4943-48bd-b0a6-9d2083973942"
      },
      "outputs": [
        {
          "output_type": "stream",
          "name": "stdout",
          "text": [
            "\n",
            "|   |   |   |\n",
            "|   |   |   |\n",
            "|   |   |   |\n",
            "\n",
            "Your turn player 1\n",
            "Enter your move (1-9): 1\n",
            "\n",
            "| X |   |   |\n",
            "|   |   |   |\n",
            "|   |   |   |\n",
            "\n",
            "Your turn player 2\n",
            "Enter your move (1-9): 9\n",
            "\n",
            "| X |   |   |\n",
            "|   |   |   |\n",
            "|   |   | O |\n",
            "\n",
            "Your turn player 1\n",
            "Enter your move (1-9): 2\n",
            "\n",
            "| X | X |   |\n",
            "|   |   |   |\n",
            "|   |   | O |\n",
            "\n",
            "Your turn player 2\n",
            "Enter your move (1-9): 1\n",
            "\n",
            "That space is taken!\n",
            "\n",
            "| X | X |   |\n",
            "|   |   |   |\n",
            "|   |   | O |\n",
            "\n",
            "Your turn player 1\n",
            "Enter your move (1-9): 3\n",
            "\n",
            "| X | X | X |\n",
            "|   |   |   |\n",
            "|   |   | O |\n",
            "\n",
            "X Wins! Congratulations!\n"
          ]
        }
      ],
      "source": [
        "board = [' ' for x in range(9)]\n",
        "\n",
        "def print_board():\n",
        "    row1 = '| {} | {} | {} |'.format(board[0], board[1], board[2])\n",
        "    row2 = '| {} | {} | {} |'.format(board[3], board[4], board[5])\n",
        "    row3 = '| {} | {} | {} |'.format(board[6], board[7], board[8])\n",
        "    print()\n",
        "    print(row1)\n",
        "    print(row2)\n",
        "    print(row3)\n",
        "    print()\n",
        "\n",
        "def player_move(icon):\n",
        "    if icon == 'X':\n",
        "        number = 1\n",
        "    elif icon == 'O':\n",
        "        number = 2\n",
        "    print('Your turn player {}'.format(number))\n",
        "    choice = int(input('Enter your move (1-9): ').strip())\n",
        "    if board[choice - 1] == ' ':\n",
        "        board[choice - 1] = icon\n",
        "    else:\n",
        "        print()\n",
        "        print('That space is taken!')\n",
        "\n",
        "def is_victory(icon):\n",
        "    if (board[0] == icon and board[1] == icon and board[2] == icon) or \\\n",
        "     (board[3] == icon and board[4] == icon and board[5] == icon) or \\\n",
        "      (board[6] == icon and board[7] == icon and board[8] == icon) or \\\n",
        "        (board[0] == icon and board[3] == icon and board[6] == icon) or \\\n",
        "         (board[1] == icon and board[4] == icon and board[7] == icon) or \\\n",
        "          (board[2] == icon and board[5] == icon and board[8] == icon) or \\\n",
        "           (board[0] == icon and board[4] == icon and board[8] == icon) or \\\n",
        "            (board[2] == icon and board[4] == icon and board[6] == icon):\n",
        "        return True\n",
        "    else:\n",
        "        return False\n",
        "\n",
        "def is_draw():\n",
        "    if ' ' not in board:\n",
        "        return True\n",
        "    else:\n",
        "        return False\n",
        "\n",
        "while True:\n",
        "    print_board()\n",
        "    player_move('X')\n",
        "    print_board()\n",
        "    if is_victory('X'):\n",
        "        print('X Wins! Congratulations!')\n",
        "        break\n",
        "    elif is_draw():\n",
        "        print('The game is a draw!')\n",
        "        break\n",
        "    player_move('O')\n",
        "    if is_victory('O'):\n",
        "        print_board()\n",
        "        print('O Wins! Congratulations!')\n",
        "        break\n",
        "    elif is_draw():\n",
        "        print('The game is a draw!')\n",
        "        break"
      ]
    }
  ]
}