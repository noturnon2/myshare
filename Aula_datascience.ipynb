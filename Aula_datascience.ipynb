{
  "nbformat": 4,
  "nbformat_minor": 0,
  "metadata": {
    "colab": {
      "provenance": [],
      "authorship_tag": "ABX9TyMQFhGx+z4T3KQeL5qAKBGB",
      "include_colab_link": true
    },
    "kernelspec": {
      "name": "python3",
      "display_name": "Python 3"
    },
    "language_info": {
      "name": "python"
    }
  },
  "cells": [
    {
      "cell_type": "markdown",
      "metadata": {
        "id": "view-in-github",
        "colab_type": "text"
      },
      "source": [
        "<a href=\"https://colab.research.google.com/github/noturnon2/myshare/blob/master/Aula_datascience.ipynb\" target=\"_parent\"><img src=\"https://colab.research.google.com/assets/colab-badge.svg\" alt=\"Open In Colab\"/></a>"
      ]
    },
    {
      "cell_type": "code",
      "execution_count": 46,
      "metadata": {
        "colab": {
          "base_uri": "https://localhost:8080/",
          "height": 296
        },
        "id": "wvqhyTo6qZmU",
        "outputId": "144e1e58-772a-4738-b53e-096da12500c6"
      },
      "outputs": [
        {
          "output_type": "execute_result",
          "data": {
            "text/plain": [
              "<matplotlib.axes._subplots.AxesSubplot at 0x7fab2f2dc700>"
            ]
          },
          "metadata": {},
          "execution_count": 46
        },
        {
          "output_type": "display_data",
          "data": {
            "text/plain": [
              "<Figure size 432x288 with 1 Axes>"
            ],
            "image/png": "[encoded data removed]"
          },
          "metadata": {
            "needs_background": "light"
          }
        }
      ],
      "source": [
        "!pip install seaborn==0.9.0\n",
        "\n",
        "import seaborn as sns\n",
        "print(sns.__version__)\n",
        "\n",
        "import pandas as pd\n",
        "\n",
        "import matplotlib.pyplot as plt\n",
        "\n",
        "uri = \"https://raw.githubusercontent.com/alura-cursos/introducao-a-data-science/master/aula4.1/movies.csv\"\n",
        "filmes = pd.read_csv(uri)\n",
        "#filmes.head(10)\n",
        "\n",
        "filmes.columns =  [\"filmeId\", \"titulo\", \"generos\"]\n",
        "filmes.head(10)\n",
        "\n",
        "uri2 = \"https://raw.githubusercontent.com/alura-cursos/introducao-a-data-science/master/aula4.1/ratings.csv\"\n",
        "notas = pd.read_csv(uri2)\n",
        "notas.head(10)\n",
        "\n",
        "notas.columns = [\"usuarioId\", \"filmeId\", \"nota\", \"momento\"]\n",
        "notas.head(10)\n",
        "\n",
        "notas[\"nota\"].head() #series\n",
        "notas[\"nota\"].unique()\n",
        "\n",
        "notas[\"nota\"].mean()\n",
        "notas[\"nota\"].min()\n",
        "notas[\"nota\"].max()\n",
        "notas.describe()\n",
        "\n",
        "notas.nota.plot(kind=\"hist\")\n",
        "notas.shape\n",
        "\n",
        "print(\"Media\",notas['nota'].mean())\n",
        "print(\"Mediana\",notas['nota'].median())\n",
        "\n",
        "sns.boxplot(notas.nota)\n",
        "\n",
        "medias_por_filme = notas.groupby(\"filmeId\").mean().nota\n",
        "\n",
        "plt.figure(figsize=(5,8))\n",
        "sns.boxplot(y=medias_por_filme)\n",
        "\n",
        "sns.distplot(medias_por_filme)"
      ]
    }
  ]
}