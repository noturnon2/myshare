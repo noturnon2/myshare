{
  "nbformat": 4,
  "nbformat_minor": 0,
  "metadata": {
    "colab": {
      "provenance": [],
      "authorship_tag": "ABX9TyPFqyh9Tua21hkL1l7guYeD",
      "include_colab_link": true
    },
    "kernelspec": {
      "name": "python3",
      "display_name": "Python 3"
    },
    "language_info": {
      "name": "python"
    }
  },
  "cells": [
    {
      "cell_type": "markdown",
      "metadata": {
        "id": "view-in-github",
        "colab_type": "text"
      },
      "source": [
        "<a href=\"https://colab.research.google.com/github/noturnon2/myshare/blob/master/Aula_if_else.ipynb\" target=\"_parent\"><img src=\"https://colab.research.google.com/assets/colab-badge.svg\" alt=\"Open In Colab\"/></a>"
      ]
    },
    {
      "cell_type": "code",
      "execution_count": null,
      "metadata": {
        "id": "DOZeHI-aqTnp"
      },
      "outputs": [],
      "source": []
    },
    {
      "cell_type": "code",
      "source": [
        "def verifica_ingresso(idade, cliente_estudante):\n",
        "  ### Seu código aqui.\n",
        "  if idade >= 60 or cliente_estudante == True:\n",
        "    mensagem = \"Você tem direito a meia entrada\"\n",
        "  elif idade < 60 or cliente_estudante == False:\n",
        "    mensagem = \"Você não tem direito a meia entrada\"\n",
        "  return mensagem\n",
        "\n",
        "print(verifica_ingresso(60, True))\n",
        "print(verifica_ingresso(15, False))\n",
        "print(verifica_ingresso(59, False))\n",
        "print(verifica_ingresso(18, True))\n",
        "print(verifica_ingresso(65, True))\n",
        "print(verifica_ingresso(95, False))"
      ],
      "metadata": {
        "colab": {
          "base_uri": "https://localhost:8080/"
        },
        "id": "o45-f9HrqV6V",
        "outputId": "7f7982fb-4edb-42ad-e7c7-a369db7c722f"
      },
      "execution_count": 1,
      "outputs": [
        {
          "output_type": "stream",
          "name": "stdout",
          "text": [
            "Você tem direito a meia entrada\n",
            "Você não tem direito a meia entrada\n",
            "Você não tem direito a meia entrada\n",
            "Você tem direito a meia entrada\n",
            "Você tem direito a meia entrada\n",
            "Você tem direito a meia entrada\n"
          ]
        }
      ]
    }
  ]
}