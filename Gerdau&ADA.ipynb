{
  "nbformat": 4,
  "nbformat_minor": 0,
  "metadata": {
    "colab": {
      "provenance": [],
      "authorship_tag": "ABX9TyNWTmR1uF2nQ7fF8ii+99d9",
      "include_colab_link": true
    },
    "kernelspec": {
      "name": "python3",
      "display_name": "Python 3"
    },
    "language_info": {
      "name": "python"
    }
  },
  "cells": [
    {
      "cell_type": "markdown",
      "metadata": {
        "id": "view-in-github",
        "colab_type": "text"
      },
      "source": [
        "<a href=\"https://colab.research.google.com/github/noturnon2/myshare/blob/master/Gerdau%26ADA.ipynb\" target=\"_parent\"><img src=\"https://colab.research.google.com/assets/colab-badge.svg\" alt=\"Open In Colab\"/></a>"
      ]
    },
    {
      "cell_type": "markdown",
      "source": [
        "\n",
        "#Aula 0 - Introdução, jupyter e Variáveis\n",
        "Na aula de vamos explorar os seguintes tópicos em Python:\n",
        "\n",
        "1.   Introdução: Jupyter;\n",
        "2.   Primeiro programa em Python\n",
        "3.   Variáveis\n",
        "\n",
        "\n",
        "[Google](www.google.com)\n",
        "\n",
        "###Problema gerador: Como exibir na tela um comprimento personalizado com um dado nome?\n",
        "\n",
        "Exemplo: \"Olá Luiz! Tudo bem?!\n",
        "\n",
        "\n",
        "\n"
      ],
      "metadata": {
        "id": "m9pU9qHsx169"
      }
    },
    {
      "cell_type": "code",
      "execution_count": null,
      "metadata": {
        "colab": {
          "base_uri": "https://localhost:8080/"
        },
        "id": "FVETfazVnZfH",
        "outputId": "c7e09b29-a1be-4c9a-e6c4-61e1d533efff"
      },
      "outputs": [
        {
          "output_type": "stream",
          "name": "stdout",
          "text": [
            "Ford\n",
            "Volvo\n",
            "BMW\n"
          ]
        }
      ],
      "source": [
        "# prompt: create a list with cars and print\n",
        "\n",
        "cars = [\"Ford\", \"Volvo\", \"BMW\"]\n",
        "\n",
        "for x in cars:\n",
        "  print(x)\n"
      ]
    },
    {
      "cell_type": "code",
      "source": [
        "# prompt: print hello\n",
        "print (\"Hello World!\")"
      ],
      "metadata": {
        "colab": {
          "base_uri": "https://localhost:8080/"
        },
        "id": "kgCTeIEBoBOq",
        "outputId": "9a256d6e-4485-495a-d914-6124d43fd2d2"
      },
      "execution_count": null,
      "outputs": [
        {
          "output_type": "stream",
          "name": "stdout",
          "text": [
            "Hello World!\n"
          ]
        }
      ]
    },
    {
      "cell_type": "code",
      "source": [
        "nome = input(\"Escreva seu nome: \")\n",
        "\n",
        "print('Seu nome é:', nome)\n",
        "type(nome)\n",
        "nome.__len__()"
      ],
      "metadata": {
        "colab": {
          "base_uri": "https://localhost:8080/"
        },
        "id": "Tp9TvjjEofD1",
        "outputId": "68925a6f-0ca5-490e-d5b3-fc08ea5c0611"
      },
      "execution_count": null,
      "outputs": [
        {
          "output_type": "stream",
          "name": "stdout",
          "text": [
            "Escreva seu nome: Luiz\n",
            "Seu nome é: Luiz\n"
          ]
        },
        {
          "output_type": "execute_result",
          "data": {
            "text/plain": [
              "4"
            ]
          },
          "metadata": {},
          "execution_count": 27
        }
      ]
    },
    {
      "cell_type": "code",
      "source": [
        "# Python code to generate a geometric sequence\n",
        "import numpy as np\n",
        "import matplotlib.pyplot as plt\n",
        "p = 1/2\n",
        "n = np.arange(0,10)\n",
        "X = np.power(p,n)\n",
        "plt.bar(n,X)"
      ],
      "metadata": {
        "colab": {
          "base_uri": "https://localhost:8080/",
          "height": 447
        },
        "id": "IR8t3PC8MT0R",
        "outputId": "1314d61a-f2ac-4d93-f202-8ec31b21aaf2"
      },
      "execution_count": null,
      "outputs": [
        {
          "output_type": "execute_result",
          "data": {
            "text/plain": [
              "<BarContainer object of 10 artists>"
            ]
          },
          "metadata": {},
          "execution_count": 2
        },
        {
          "output_type": "display_data",
          "data": {
            "text/plain": [
              "<Figure size 640x480 with 1 Axes>"
            ],
            "image/png": "[encoded data removed]"
          },
          "metadata": {}
        }
      ]
    }
  ]
}