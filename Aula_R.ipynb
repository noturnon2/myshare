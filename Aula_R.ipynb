{
  "nbformat": 4,
  "nbformat_minor": 0,
  "metadata": {
    "colab": {
      "provenance": [],
      "authorship_tag": "ABX9TyOMXx+txDzE9NS3giv+h+s+",
      "include_colab_link": true
    },
    "kernelspec": {
      "name": "ir",
      "display_name": "R"
    },
    "language_info": {
      "name": "R"
    }
  },
  "cells": [
    {
      "cell_type": "markdown",
      "metadata": {
        "id": "view-in-github",
        "colab_type": "text"
      },
      "source": [
        "<a href=\"https://colab.research.google.com/github/noturnon2/myshare/blob/master/Aula_R.ipynb\" target=\"_parent\"><img src=\"https://colab.research.google.com/assets/colab-badge.svg\" alt=\"Open In Colab\"/></a>"
      ]
    },
    {
      "cell_type": "markdown",
      "source": [
        "#Imprimindo informações na Tela"
      ],
      "metadata": {
        "id": "k9pShicXoG9y"
      }
    },
    {
      "cell_type": "code",
      "source": [
        "#Primeiro Código\n",
        "curso <- \"Futebol Interativo\"\n",
        "print(paste(\"Olá mundo do\", curso))"
      ],
      "metadata": {
        "colab": {
          "base_uri": "https://localhost:8080/"
        },
        "id": "wPwaZMTJoNmp",
        "outputId": "1b88b3ba-41ff-4212-e5ae-cb93b8d34d00"
      },
      "execution_count": null,
      "outputs": [
        {
          "output_type": "stream",
          "name": "stdout",
          "text": [
            "[1] \"Olá mundo do Futebol Interativo\"\n"
          ]
        }
      ]
    },
    {
      "cell_type": "markdown",
      "source": [
        "# **Váriaveis**"
      ],
      "metadata": {
        "id": "nSLQwSYVKDTM"
      }
    },
    {
      "cell_type": "code",
      "source": [
        "nome <- \"Luiz\"\n",
        "print(paste(\"Olá, \", nome, \"!\"))"
      ],
      "metadata": {
        "colab": {
          "base_uri": "https://localhost:8080/"
        },
        "id": "GxYPny_bKEy1",
        "outputId": "d86411d1-7f8c-4181-b652-cbf807bdffab"
      },
      "execution_count": null,
      "outputs": [
        {
          "output_type": "stream",
          "name": "stdout",
          "text": [
            "[1] \"Olá,  Luiz !\"\n"
          ]
        }
      ]
    },
    {
      "cell_type": "code",
      "source": [
        "print(paste(\"Olá, \", nome, \"!\", sep = \"\"))"
      ],
      "metadata": {
        "colab": {
          "base_uri": "https://localhost:8080/"
        },
        "id": "XMAXvUK9KY9v",
        "outputId": "422c698d-ced3-4970-bb37-7539fddfa45f"
      },
      "execution_count": null,
      "outputs": [
        {
          "output_type": "stream",
          "name": "stdout",
          "text": [
            "[1] \"Olá, Luiz!\"\n"
          ]
        }
      ]
    },
    {
      "cell_type": "code",
      "source": [
        "valor1 <- 101\n",
        "valor2 <- 201"
      ],
      "metadata": {
        "id": "1t_7IWPBKlKv"
      },
      "execution_count": null,
      "outputs": []
    },
    {
      "cell_type": "code",
      "source": [
        "valor1"
      ],
      "metadata": {
        "colab": {
          "base_uri": "https://localhost:8080/",
          "height": 34
        },
        "id": "gZMGgjfVKyP-",
        "outputId": "cf24e061-defc-4fa8-99cb-6948d722350c"
      },
      "execution_count": null,
      "outputs": [
        {
          "output_type": "display_data",
          "data": {
            "text/html": [
              "101"
            ],
            "text/markdown": "101",
            "text/latex": "101",
            "text/plain": [
              "[1] 101"
            ]
          },
          "metadata": {}
        }
      ]
    },
    {
      "cell_type": "code",
      "source": [
        "valor2"
      ],
      "metadata": {
        "colab": {
          "base_uri": "https://localhost:8080/",
          "height": 34
        },
        "id": "1tQ5YtxsKz3m",
        "outputId": "6bb47428-1e59-44c0-83ed-8b4542bdb8d6"
      },
      "execution_count": null,
      "outputs": [
        {
          "output_type": "display_data",
          "data": {
            "text/html": [
              "2"
            ],
            "text/markdown": "2",
            "text/latex": "2",
            "text/plain": [
              "[1] 2"
            ]
          },
          "metadata": {}
        }
      ]
    },
    {
      "cell_type": "code",
      "source": [
        "valor3 <- valor1 + valor2\n",
        "print(paste('Soma:', valor3))"
      ],
      "metadata": {
        "colab": {
          "base_uri": "https://localhost:8080/"
        },
        "id": "D8NrinosLDeH",
        "outputId": "8d381bf7-9193-440a-db7e-dfc31bb11690"
      },
      "execution_count": null,
      "outputs": [
        {
          "output_type": "stream",
          "name": "stdout",
          "text": [
            "[1] \"Soma: 302\"\n"
          ]
        }
      ]
    },
    {
      "cell_type": "markdown",
      "source": [
        "\n",
        "\n",
        "*   Nome das variáveis não podem conter números no ínicio e nem espaços.\n",
        "*   Letras maiúsculas e minúsculas fazem diferença no nome da variável.\n",
        "*   Não podemos usar palavras reservadas da linguagem no nome da variável, por exemplo a palavra \"**paste**\".\n",
        "\n"
      ],
      "metadata": {
        "id": "uuw6BA3qLWQP"
      }
    },
    {
      "cell_type": "code",
      "source": [
        "55nome = \"Lucas\""
      ],
      "metadata": {
        "colab": {
          "base_uri": "https://localhost:8080/",
          "height": 106
        },
        "id": "WMw9VUX2MDQA",
        "outputId": "37fad35f-e9fa-40b2-ce55-2be2a6a3e82e"
      },
      "execution_count": null,
      "outputs": [
        {
          "output_type": "error",
          "ename": "ERROR",
          "evalue": "Error in parse(text = x, srcfile = src): <text>:1:3: unexpected symbol\n1: 55nome\n      ^\n",
          "traceback": [
            "Error in parse(text = x, srcfile = src): <text>:1:3: unexpected symbol\n1: 55nome\n      ^\nTraceback:\n"
          ]
        }
      ]
    },
    {
      "cell_type": "code",
      "source": [
        "nome 500 = \"Lucas\""
      ],
      "metadata": {
        "colab": {
          "base_uri": "https://localhost:8080/",
          "height": 106
        },
        "id": "2Dfuk4TtMJl5",
        "outputId": "51257546-e75a-4acc-975a-90e83fa36924"
      },
      "execution_count": null,
      "outputs": [
        {
          "output_type": "error",
          "ename": "ERROR",
          "evalue": "Error in parse(text = x, srcfile = src): <text>:1:6: unexpected numeric constant\n1: nome 500\n         ^\n",
          "traceback": [
            "Error in parse(text = x, srcfile = src): <text>:1:6: unexpected numeric constant\n1: nome 500\n         ^\nTraceback:\n"
          ]
        }
      ]
    },
    {
      "cell_type": "code",
      "source": [
        "nome_1 = \"Lucas\"\n",
        "print(Nome_1)"
      ],
      "metadata": {
        "colab": {
          "base_uri": "https://localhost:8080/",
          "height": 106
        },
        "id": "xt4X5zCXMMrR",
        "outputId": "46811f77-c6c6-4904-ea46-cebd2dc389a7"
      },
      "execution_count": null,
      "outputs": [
        {
          "output_type": "error",
          "ename": "ERROR",
          "evalue": "Error in eval(expr, envir, enclos): object 'Nome_1' not found\n",
          "traceback": [
            "Error in eval(expr, envir, enclos): object 'Nome_1' not found\nTraceback:\n",
            "1. print(Nome_1)"
          ]
        }
      ]
    },
    {
      "cell_type": "markdown",
      "source": [
        "# Tipos de variáveis"
      ],
      "metadata": {
        "id": "bzQerC-4MbLS"
      }
    },
    {
      "cell_type": "code",
      "source": [
        "variavel = 10\n",
        "class(variavel)"
      ],
      "metadata": {
        "id": "lc0JGi3UMfYl",
        "colab": {
          "base_uri": "https://localhost:8080/",
          "height": 34
        },
        "outputId": "19e66839-4aa7-424f-9559-ffbf3856a34d"
      },
      "execution_count": null,
      "outputs": [
        {
          "output_type": "display_data",
          "data": {
            "text/html": [
              "'numeric'"
            ],
            "text/markdown": "'numeric'",
            "text/latex": "'numeric'",
            "text/plain": [
              "[1] \"numeric\""
            ]
          },
          "metadata": {}
        }
      ]
    },
    {
      "cell_type": "code",
      "source": [
        "variavel = 3.14\n",
        "class(variavel)"
      ],
      "metadata": {
        "colab": {
          "base_uri": "https://localhost:8080/",
          "height": 34
        },
        "id": "l58h3oU3R4IB",
        "outputId": "0632d6a9-5a36-45ea-e50c-89ca9e69f74d"
      },
      "execution_count": null,
      "outputs": [
        {
          "output_type": "display_data",
          "data": {
            "text/html": [
              "'numeric'"
            ],
            "text/markdown": "'numeric'",
            "text/latex": "'numeric'",
            "text/plain": [
              "[1] \"numeric\""
            ]
          },
          "metadata": {}
        }
      ]
    },
    {
      "cell_type": "code",
      "source": [
        "variavel  = \"Luiz\"\n",
        "class(variavel)"
      ],
      "metadata": {
        "colab": {
          "base_uri": "https://localhost:8080/",
          "height": 34
        },
        "id": "UhcAyW4TRv6a",
        "outputId": "0182db8b-217c-467e-ec11-869608277853"
      },
      "execution_count": null,
      "outputs": [
        {
          "output_type": "display_data",
          "data": {
            "text/html": [
              "'character'"
            ],
            "text/markdown": "'character'",
            "text/latex": "'character'",
            "text/plain": [
              "[1] \"character\""
            ]
          },
          "metadata": {}
        }
      ]
    },
    {
      "cell_type": "code",
      "source": [
        "variavel = 10i\n",
        "class(variavel)"
      ],
      "metadata": {
        "colab": {
          "base_uri": "https://localhost:8080/",
          "height": 34
        },
        "id": "Ovrw-PpMSR9z",
        "outputId": "633afa01-1f62-40d8-a504-06f0935583b7"
      },
      "execution_count": null,
      "outputs": [
        {
          "output_type": "display_data",
          "data": {
            "text/html": [
              "'complex'"
            ],
            "text/markdown": "'complex'",
            "text/latex": "'complex'",
            "text/plain": [
              "[1] \"complex\""
            ]
          },
          "metadata": {}
        }
      ]
    },
    {
      "cell_type": "code",
      "source": [
        "variavel = T\n",
        "class(variavel)"
      ],
      "metadata": {
        "colab": {
          "base_uri": "https://localhost:8080/",
          "height": 34
        },
        "id": "O2_iEOuPTg6m",
        "outputId": "413b4d07-a445-4c94-b13a-c5c89a2b800f"
      },
      "execution_count": null,
      "outputs": [
        {
          "output_type": "display_data",
          "data": {
            "text/html": [
              "'logical'"
            ],
            "text/markdown": "'logical'",
            "text/latex": "'logical'",
            "text/plain": [
              "[1] \"logical\""
            ]
          },
          "metadata": {}
        }
      ]
    },
    {
      "cell_type": "code",
      "source": [
        "variavel = FALSE\n",
        "class(variavel)"
      ],
      "metadata": {
        "colab": {
          "base_uri": "https://localhost:8080/",
          "height": 34
        },
        "id": "Rlulg8Z-Uyw_",
        "outputId": "8678b0a4-8298-4902-9a92-f11f4c87196f"
      },
      "execution_count": null,
      "outputs": [
        {
          "output_type": "display_data",
          "data": {
            "text/html": [
              "'logical'"
            ],
            "text/markdown": "'logical'",
            "text/latex": "'logical'",
            "text/plain": [
              "[1] \"logical\""
            ]
          },
          "metadata": {}
        }
      ]
    },
    {
      "cell_type": "markdown",
      "source": [
        "## Operadores Aritméticos"
      ],
      "metadata": {
        "id": "o8mQmd85VCwI"
      }
    },
    {
      "cell_type": "code",
      "source": [
        "# Adição\n",
        "valor1 <- 60\n",
        "valor2 <- 50\n",
        "valor3 <- valor1 + valor2\n",
        "\n",
        "print(paste('Soma:', valor3))\n"
      ],
      "metadata": {
        "colab": {
          "base_uri": "https://localhost:8080/"
        },
        "id": "NvHL2F_2VHvT",
        "outputId": "6a05cb1b-4e7c-4123-c64d-7c5513d8a35c"
      },
      "execution_count": null,
      "outputs": [
        {
          "output_type": "stream",
          "name": "stdout",
          "text": [
            "[1] \"Soma: 110\"\n"
          ]
        }
      ]
    },
    {
      "cell_type": "code",
      "source": [
        "# Subtração\n",
        "valor1 <- 60\n",
        "valor2 <- 50\n",
        "valor3 <- valor1 - valor2\n",
        "\n",
        "print(paste('Resultado:', valor3))"
      ],
      "metadata": {
        "colab": {
          "base_uri": "https://localhost:8080/"
        },
        "id": "-zVs0aTgVdo_",
        "outputId": "a0bce9b7-6fed-475a-8cd5-67f54657a9a0"
      },
      "execution_count": null,
      "outputs": [
        {
          "output_type": "stream",
          "name": "stdout",
          "text": [
            "[1] \"Resultado: 10\"\n"
          ]
        }
      ]
    },
    {
      "cell_type": "code",
      "source": [
        "# Divisão\n",
        "valor1 <- 60\n",
        "valor2 <- 2\n",
        "valor3 <- valor1 / valor2\n",
        "\n",
        "print(paste('Resultado:', valor3))"
      ],
      "metadata": {
        "colab": {
          "base_uri": "https://localhost:8080/"
        },
        "id": "6v4acbrVVkSA",
        "outputId": "019341a6-d77f-40e2-e0fb-26622e4ce91d"
      },
      "execution_count": null,
      "outputs": [
        {
          "output_type": "stream",
          "name": "stdout",
          "text": [
            "[1] \"Resultado: 30\"\n"
          ]
        }
      ]
    },
    {
      "cell_type": "code",
      "source": [
        "# Multiplicação\n",
        "valor1 <- 60\n",
        "valor2 <- 2\n",
        "valor3 <- valor1 * valor2\n",
        "\n",
        "print(paste('Resultado:', valor3))"
      ],
      "metadata": {
        "colab": {
          "base_uri": "https://localhost:8080/"
        },
        "id": "aIiKt7KhVwUS",
        "outputId": "f7a0c676-a9c7-4437-a9be-33d91dc5593a"
      },
      "execution_count": null,
      "outputs": [
        {
          "output_type": "stream",
          "name": "stdout",
          "text": [
            "[1] \"Resultado: 120\"\n"
          ]
        }
      ]
    },
    {
      "cell_type": "code",
      "source": [
        "# Exponenciação\n",
        "valor1 <- 2\n",
        "valor2 <- 6\n",
        "valor3 <- valor1 ** valor2\n",
        "\n",
        "print(paste('Resultado:', valor3))"
      ],
      "metadata": {
        "colab": {
          "base_uri": "https://localhost:8080/"
        },
        "id": "uTUVBP9pV4MD",
        "outputId": "726c064b-9385-4ee5-f25d-29b05561a534"
      },
      "execution_count": null,
      "outputs": [
        {
          "output_type": "stream",
          "name": "stdout",
          "text": [
            "[1] \"Resultado: 64\"\n"
          ]
        }
      ]
    },
    {
      "cell_type": "code",
      "source": [
        "# Módulo (Resto da Divisão)\n",
        "valor1 <- 65\n",
        "valor2 <- 2\n",
        "valor3 <- valor1 %% valor2\n",
        "\n",
        "print(paste('Resultado:', valor3))"
      ],
      "metadata": {
        "colab": {
          "base_uri": "https://localhost:8080/"
        },
        "id": "IVbdadI4WH1U",
        "outputId": "bf795a54-f57d-42bb-a0fa-5903be039454"
      },
      "execution_count": null,
      "outputs": [
        {
          "output_type": "stream",
          "name": "stdout",
          "text": [
            "[1] \"Resultado: 1\"\n"
          ]
        }
      ]
    },
    {
      "cell_type": "markdown",
      "source": [
        "##Operadores de comparação"
      ],
      "metadata": {
        "id": "xCeQDT6eWSZ1"
      }
    },
    {
      "cell_type": "code",
      "source": [
        "# Menor que...\n",
        "valor1 <- 60\n",
        "valor2 <- 2\n",
        "valor2 < valor1"
      ],
      "metadata": {
        "colab": {
          "base_uri": "https://localhost:8080/",
          "height": 34
        },
        "id": "Kvrso8x2WYMk",
        "outputId": "1bdfa1a6-7b6f-42d5-aeaf-5036fca1d1ec"
      },
      "execution_count": null,
      "outputs": [
        {
          "output_type": "display_data",
          "data": {
            "text/html": [
              "TRUE"
            ],
            "text/markdown": "TRUE",
            "text/latex": "TRUE",
            "text/plain": [
              "[1] TRUE"
            ]
          },
          "metadata": {}
        }
      ]
    },
    {
      "cell_type": "code",
      "source": [
        "# Menor ou igual a...\n",
        "valor1 <- 60\n",
        "valor2 <- 2\n",
        "valor2 <= valor1"
      ],
      "metadata": {
        "colab": {
          "base_uri": "https://localhost:8080/",
          "height": 34
        },
        "id": "f1OY1hATXFjT",
        "outputId": "50fc601b-3eaf-4498-8b19-bed2cb8d3089"
      },
      "execution_count": null,
      "outputs": [
        {
          "output_type": "display_data",
          "data": {
            "text/html": [
              "TRUE"
            ],
            "text/markdown": "TRUE",
            "text/latex": "TRUE",
            "text/plain": [
              "[1] TRUE"
            ]
          },
          "metadata": {}
        }
      ]
    },
    {
      "cell_type": "code",
      "source": [
        "# Maior que...\n",
        "valor1 <- 60\n",
        "valor2 <- 2\n",
        "valor1 > valor2"
      ],
      "metadata": {
        "colab": {
          "base_uri": "https://localhost:8080/",
          "height": 34
        },
        "id": "uCjE2CKFWkhW",
        "outputId": "bcfa5f12-e77c-458e-be13-38aca3c027f2"
      },
      "execution_count": null,
      "outputs": [
        {
          "output_type": "display_data",
          "data": {
            "text/html": [
              "TRUE"
            ],
            "text/markdown": "TRUE",
            "text/latex": "TRUE",
            "text/plain": [
              "[1] TRUE"
            ]
          },
          "metadata": {}
        }
      ]
    },
    {
      "cell_type": "code",
      "source": [
        "# Maior ou igual a ...\n",
        "valor1 <- 60\n",
        "valor2 <- 2\n",
        "valor1 >= valor2"
      ],
      "metadata": {
        "colab": {
          "base_uri": "https://localhost:8080/",
          "height": 34
        },
        "id": "SCIx553eXMIE",
        "outputId": "ab1d4a04-0ca6-42b1-8ae4-3f925f1210ca"
      },
      "execution_count": null,
      "outputs": [
        {
          "output_type": "display_data",
          "data": {
            "text/html": [
              "TRUE"
            ],
            "text/markdown": "TRUE",
            "text/latex": "TRUE",
            "text/plain": [
              "[1] TRUE"
            ]
          },
          "metadata": {}
        }
      ]
    },
    {
      "cell_type": "code",
      "source": [
        "# Diferente de...\n",
        "valor1 <- 60\n",
        "valor2 <- 2\n",
        "valor1 != valor2"
      ],
      "metadata": {
        "colab": {
          "base_uri": "https://localhost:8080/",
          "height": 34
        },
        "id": "1Wr47O3AWr_4",
        "outputId": "519e0d7e-2f43-4aeb-a1f4-36e8b8ad11b0"
      },
      "execution_count": null,
      "outputs": [
        {
          "output_type": "display_data",
          "data": {
            "text/html": [
              "TRUE"
            ],
            "text/markdown": "TRUE",
            "text/latex": "TRUE",
            "text/plain": [
              "[1] TRUE"
            ]
          },
          "metadata": {}
        }
      ]
    },
    {
      "cell_type": "code",
      "source": [
        "# Igual a...\n",
        "valor1 <- 2\n",
        "valor2 <- 2\n",
        "valor1 == valor2"
      ],
      "metadata": {
        "colab": {
          "base_uri": "https://localhost:8080/",
          "height": 34
        },
        "id": "Ktrg3uQqWyBY",
        "outputId": "6143d424-a96b-4cc9-d70b-ec677eb8a776"
      },
      "execution_count": null,
      "outputs": [
        {
          "output_type": "display_data",
          "data": {
            "text/html": [
              "TRUE"
            ],
            "text/markdown": "TRUE",
            "text/latex": "TRUE",
            "text/plain": [
              "[1] TRUE"
            ]
          },
          "metadata": {}
        }
      ]
    },
    {
      "cell_type": "markdown",
      "source": [
        "## Operadores Lógicos"
      ],
      "metadata": {
        "id": "LjlsvNAUXhj0"
      }
    },
    {
      "cell_type": "code",
      "source": [
        "valor1 <- 60\n",
        "valor2 <- 2\n",
        "valor3 = 100\n",
        "\n",
        "#End\n",
        "valor1 > 50 & valor2 < valor3\n",
        "#Or\n",
        "valor1 > 50 | valor2 >= valor3\n",
        "#Not\n",
        "!(valor1 == 60)"
      ],
      "metadata": {
        "colab": {
          "base_uri": "https://localhost:8080/",
          "height": 69
        },
        "id": "zExVK0I6XnT-",
        "outputId": "cad899f3-55e7-4d2c-f3d8-7c8c864950b2"
      },
      "execution_count": null,
      "outputs": [
        {
          "output_type": "display_data",
          "data": {
            "text/html": [
              "TRUE"
            ],
            "text/markdown": "TRUE",
            "text/latex": "TRUE",
            "text/plain": [
              "[1] TRUE"
            ]
          },
          "metadata": {}
        },
        {
          "output_type": "display_data",
          "data": {
            "text/html": [
              "TRUE"
            ],
            "text/markdown": "TRUE",
            "text/latex": "TRUE",
            "text/plain": [
              "[1] TRUE"
            ]
          },
          "metadata": {}
        },
        {
          "output_type": "display_data",
          "data": {
            "text/html": [
              "FALSE"
            ],
            "text/markdown": "FALSE",
            "text/latex": "FALSE",
            "text/plain": [
              "[1] FALSE"
            ]
          },
          "metadata": {}
        }
      ]
    },
    {
      "cell_type": "markdown",
      "source": [
        "## Estrutura Condicional"
      ],
      "metadata": {
        "id": "Fo2oUDSObHN4"
      }
    },
    {
      "cell_type": "code",
      "source": [
        "qntd_players = 30\n",
        "\n",
        "if (qntd_players>= 25){\n",
        "    print(\"Quantidade de jogadores permitida\")\n",
        "}"
      ],
      "metadata": {
        "colab": {
          "base_uri": "https://localhost:8080/"
        },
        "id": "kMSVTYiIaxdo",
        "outputId": "b47db29f-4700-44b0-f142-ceed3eb6f5bb"
      },
      "execution_count": null,
      "outputs": [
        {
          "output_type": "stream",
          "name": "stdout",
          "text": [
            "[1] \"Quantidade de jogadores permitida\"\n"
          ]
        }
      ]
    },
    {
      "cell_type": "code",
      "source": [
        "qntd_players = 35\n",
        "\n",
        "if (qntd_players>= 45){\n",
        "    print(\"Quantidade de jogadores maior que a permitida\")\n",
        "}else if (qntd_players>= 25){\n",
        "    print(\"Quantidade de jogadores permitida\")\n",
        "}"
      ],
      "metadata": {
        "colab": {
          "base_uri": "https://localhost:8080/"
        },
        "id": "Xb548j7qbLHh",
        "outputId": "8c038b42-085e-47a6-be79-2f165d9cfe05"
      },
      "execution_count": null,
      "outputs": [
        {
          "output_type": "stream",
          "name": "stdout",
          "text": [
            "[1] \"Quantidade de jogadores permitida\"\n"
          ]
        }
      ]
    },
    {
      "cell_type": "code",
      "source": [
        "qntd_players = 23\n",
        "\n",
        "if (qntd_players>= 45){\n",
        "    print(\"Quantidade de jogadores maior que a permitida\")\n",
        "}else if (qntd_players >= 25){\n",
        "    print(\"Quantidade de jogadores permitida\")\n",
        "}else{\n",
        "    print(\"Quantidade de jogadores menor que a necessária\")\n",
        "}"
      ],
      "metadata": {
        "colab": {
          "base_uri": "https://localhost:8080/"
        },
        "id": "3NuGLbWqcFyJ",
        "outputId": "927b5e37-99f5-4654-cc15-3b23b8275ab4"
      },
      "execution_count": null,
      "outputs": [
        {
          "output_type": "stream",
          "name": "stdout",
          "text": [
            "[1] \"Quantidade de jogadores menor que a necessária\"\n"
          ]
        }
      ]
    },
    {
      "cell_type": "code",
      "source": [
        "qntd_players = 50\n",
        "qntd_goalkeepers = 2\n",
        "\n",
        "if (qntd_players >= 45 & qntd_goalkeepers >= 3){\n",
        "    print(\"Quantidade de jogadores maior que a permitida\")\n",
        "}else if (qntd_players >= 25){\n",
        "    print(\"Quantidade de jogadores permitida\")\n",
        "}else{\n",
        "    print(\"Quantidade de jogadores menor que a necessária\")\n",
        "}"
      ],
      "metadata": {
        "colab": {
          "base_uri": "https://localhost:8080/"
        },
        "id": "LdxPusJSc75X",
        "outputId": "f857ff54-3967-49e0-8493-04e16e2afbda"
      },
      "execution_count": null,
      "outputs": [
        {
          "output_type": "stream",
          "name": "stdout",
          "text": [
            "[1] \"Quantidade de jogadores permitida\"\n"
          ]
        }
      ]
    },
    {
      "cell_type": "code",
      "source": [
        "qntd_goals = 25\n",
        "qntd_matches = 18\n",
        "\n",
        "if (qntd_goals > 10){\n",
        "  print('Mais de 10 gols!')\n",
        "    if (qntd_matches >= 18){\n",
        "        print(\"Mais de 18 jogos!\")\n",
        "    }else{\n",
        "      print(\"Menos de 18 jogos!\")\n",
        "    }\n",
        "}else{\n",
        "    print(\"Menos de 10 gols!\")\n",
        "}"
      ],
      "metadata": {
        "colab": {
          "base_uri": "https://localhost:8080/"
        },
        "id": "CcU70EwHddNU",
        "outputId": "3c39b18f-9a58-4b28-e199-8cc264ac4cd7"
      },
      "execution_count": null,
      "outputs": [
        {
          "output_type": "stream",
          "name": "stdout",
          "text": [
            "[1] \"Mais de 10 gols!\"\n",
            "[1] \"Mais de 18 jogos!\"\n"
          ]
        }
      ]
    },
    {
      "cell_type": "markdown",
      "source": [
        "## Vetores"
      ],
      "metadata": {
        "id": "geV6fV8dfFkt"
      }
    },
    {
      "cell_type": "code",
      "source": [
        "vet_animals <- c(\"Dog\", \"Tartaruga\", \"Gato\")\n",
        "\n",
        "class(vet_animals)\n",
        "\n",
        "vetor <- c(4, 5, \"Cavalo\")\n",
        "\n",
        "class(vetor)\n",
        "\n",
        "vetor\n",
        "\n",
        "print(paste(\"Não vai imprimir nada:\", vet_animals[0]))\n",
        "\n",
        "vet_animals[1]\n",
        "\n",
        "vet_animals[3]\n",
        "\n",
        "vet_animals <- c(vet_animals, \"Sedan\")\n",
        "\n",
        "vet_animals\n",
        "\n",
        "vet_animals <-vet_animals[1:3]\n",
        "\n",
        "vet_animals"
      ],
      "metadata": {
        "colab": {
          "base_uri": "https://localhost:8080/",
          "height": 156
        },
        "id": "v922jOaVfEvH",
        "outputId": "41447761-721c-4738-8c6b-4d2e9c81a596"
      },
      "execution_count": null,
      "outputs": [
        {
          "output_type": "display_data",
          "data": {
            "text/html": [
              "'character'"
            ],
            "text/markdown": "'character'",
            "text/latex": "'character'",
            "text/plain": [
              "[1] \"character\""
            ]
          },
          "metadata": {}
        },
        {
          "output_type": "display_data",
          "data": {
            "text/html": [
              "'character'"
            ],
            "text/markdown": "'character'",
            "text/latex": "'character'",
            "text/plain": [
              "[1] \"character\""
            ]
          },
          "metadata": {}
        },
        {
          "output_type": "display_data",
          "data": {
            "text/html": [
              "<style>\n",
              ".list-inline {list-style: none; margin:0; padding: 0}\n",
              ".list-inline>li {display: inline-block}\n",
              ".list-inline>li:not(:last-child)::after {content: \"\\00b7\"; padding: 0 .5ex}\n",
              "</style>\n",
              "<ol class=list-inline><li>'4'</li><li>'5'</li><li>'Cavalo'</li></ol>\n"
            ],
            "text/markdown": "1. '4'\n2. '5'\n3. 'Cavalo'\n\n\n",
            "text/latex": "\\begin{enumerate*}\n\\item '4'\n\\item '5'\n\\item 'Cavalo'\n\\end{enumerate*}\n",
            "text/plain": [
              "[1] \"4\"      \"5\"      \"Cavalo\""
            ]
          },
          "metadata": {}
        },
        {
          "output_type": "stream",
          "name": "stdout",
          "text": [
            "[1] \"Não vai imprimir nada: \"\n"
          ]
        },
        {
          "output_type": "display_data",
          "data": {
            "text/html": [
              "'Dog'"
            ],
            "text/markdown": "'Dog'",
            "text/latex": "'Dog'",
            "text/plain": [
              "[1] \"Dog\""
            ]
          },
          "metadata": {}
        },
        {
          "output_type": "display_data",
          "data": {
            "text/html": [
              "'Gato'"
            ],
            "text/markdown": "'Gato'",
            "text/latex": "'Gato'",
            "text/plain": [
              "[1] \"Gato\""
            ]
          },
          "metadata": {}
        },
        {
          "output_type": "display_data",
          "data": {
            "text/html": [
              "<style>\n",
              ".list-inline {list-style: none; margin:0; padding: 0}\n",
              ".list-inline>li {display: inline-block}\n",
              ".list-inline>li:not(:last-child)::after {content: \"\\00b7\"; padding: 0 .5ex}\n",
              "</style>\n",
              "<ol class=list-inline><li>'Dog'</li><li>'Tartaruga'</li><li>'Gato'</li><li>'Sedan'</li></ol>\n"
            ],
            "text/markdown": "1. 'Dog'\n2. 'Tartaruga'\n3. 'Gato'\n4. 'Sedan'\n\n\n",
            "text/latex": "\\begin{enumerate*}\n\\item 'Dog'\n\\item 'Tartaruga'\n\\item 'Gato'\n\\item 'Sedan'\n\\end{enumerate*}\n",
            "text/plain": [
              "[1] \"Dog\"       \"Tartaruga\" \"Gato\"      \"Sedan\"    "
            ]
          },
          "metadata": {}
        },
        {
          "output_type": "display_data",
          "data": {
            "text/html": [
              "<style>\n",
              ".list-inline {list-style: none; margin:0; padding: 0}\n",
              ".list-inline>li {display: inline-block}\n",
              ".list-inline>li:not(:last-child)::after {content: \"\\00b7\"; padding: 0 .5ex}\n",
              "</style>\n",
              "<ol class=list-inline><li>'Dog'</li><li>'Tartaruga'</li><li>'Gato'</li></ol>\n"
            ],
            "text/markdown": "1. 'Dog'\n2. 'Tartaruga'\n3. 'Gato'\n\n\n",
            "text/latex": "\\begin{enumerate*}\n\\item 'Dog'\n\\item 'Tartaruga'\n\\item 'Gato'\n\\end{enumerate*}\n",
            "text/plain": [
              "[1] \"Dog\"       \"Tartaruga\" \"Gato\"     "
            ]
          },
          "metadata": {}
        }
      ]
    },
    {
      "cell_type": "code",
      "source": [
        "vetor <- c(4, 5, 6)\n",
        "\n",
        "class(vetor)"
      ],
      "metadata": {
        "colab": {
          "base_uri": "https://localhost:8080/",
          "height": 34
        },
        "id": "ClKsM27sgute",
        "outputId": "255ecf10-d91b-4989-ece1-e31efbed49bf"
      },
      "execution_count": null,
      "outputs": [
        {
          "output_type": "display_data",
          "data": {
            "text/html": [
              "'numeric'"
            ],
            "text/markdown": "'numeric'",
            "text/latex": "'numeric'",
            "text/plain": [
              "[1] \"numeric\""
            ]
          },
          "metadata": {}
        }
      ]
    },
    {
      "cell_type": "markdown",
      "source": [
        "## Estruturas de Repetição"
      ],
      "metadata": {
        "id": "3irJF7x8h5hn"
      }
    },
    {
      "cell_type": "code",
      "source": [
        "count <- 1\n",
        "while(count < 5){\n",
        "  print(count + 2)\n",
        "  count <-count + 1\n",
        "}"
      ],
      "metadata": {
        "colab": {
          "base_uri": "https://localhost:8080/"
        },
        "id": "PP6FsWhFh_ey",
        "outputId": "2880311d-ffcd-47c5-89a4-0056c9a8caaf"
      },
      "execution_count": null,
      "outputs": [
        {
          "output_type": "stream",
          "name": "stdout",
          "text": [
            "[1] 3\n",
            "[1] 4\n",
            "[1] 5\n",
            "[1] 6\n"
          ]
        }
      ]
    },
    {
      "cell_type": "code",
      "source": [
        "vet_animals <- c(\"Dog\", \"Tartaruga\", \"Gato\")\n",
        "\n",
        "for(animal in vet_animals){\n",
        "    print(animal)\n",
        "}"
      ],
      "metadata": {
        "colab": {
          "base_uri": "https://localhost:8080/"
        },
        "id": "L-NgYUE0iXMK",
        "outputId": "d55a27a0-b653-4659-ff45-96fc4e7df0a3"
      },
      "execution_count": null,
      "outputs": [
        {
          "output_type": "stream",
          "name": "stdout",
          "text": [
            "[1] \"Dog\"\n",
            "[1] \"Tartaruga\"\n",
            "[1] \"Gato\"\n"
          ]
        }
      ]
    },
    {
      "cell_type": "code",
      "source": [
        "for (n in 0:9){\n",
        "  print(n)\n",
        "}"
      ],
      "metadata": {
        "colab": {
          "base_uri": "https://localhost:8080/"
        },
        "id": "xt6kMg5Ziqob",
        "outputId": "108460de-9b03-41a5-9231-c3f3fe648ac4"
      },
      "execution_count": null,
      "outputs": [
        {
          "output_type": "stream",
          "name": "stdout",
          "text": [
            "[1] 0\n",
            "[1] 1\n",
            "[1] 2\n",
            "[1] 3\n",
            "[1] 4\n",
            "[1] 5\n",
            "[1] 6\n",
            "[1] 7\n",
            "[1] 8\n",
            "[1] 9\n"
          ]
        }
      ]
    },
    {
      "cell_type": "markdown",
      "source": [
        "## Funções"
      ],
      "metadata": {
        "id": "nd0TkeL1jD0s"
      }
    },
    {
      "cell_type": "code",
      "source": [
        "verificar_paridade <- function(num){\n",
        "  if(num %% 2 == 0){\n",
        "      print(paste(\"O número \", num, \"é par!\"))\n",
        "  }else{\n",
        "      print(paste(\"O número \", num, \"é ímpar!\"))\n",
        "  }\n",
        "}"
      ],
      "metadata": {
        "id": "OV5CI1FkjFzc"
      },
      "execution_count": null,
      "outputs": []
    },
    {
      "cell_type": "code",
      "source": [
        "verificar_paridade(20)"
      ],
      "metadata": {
        "colab": {
          "base_uri": "https://localhost:8080/"
        },
        "id": "_srDpgNjkEQU",
        "outputId": "42346601-b0dc-4138-e574-3b09699ae1b4"
      },
      "execution_count": null,
      "outputs": [
        {
          "output_type": "stream",
          "name": "stdout",
          "text": [
            "[1] \"O número  20 é par!\"\n"
          ]
        }
      ]
    },
    {
      "cell_type": "code",
      "source": [
        "verificar_paridade(5)"
      ],
      "metadata": {
        "colab": {
          "base_uri": "https://localhost:8080/"
        },
        "id": "aqrW2YFikIvU",
        "outputId": "e9f05e30-6059-4129-ae2c-5b01af0d948a"
      },
      "execution_count": null,
      "outputs": [
        {
          "output_type": "stream",
          "name": "stdout",
          "text": [
            "[1] \"O número  5 é ímpar!\"\n"
          ]
        }
      ]
    },
    {
      "cell_type": "code",
      "source": [
        "verificar_paridade(2)"
      ],
      "metadata": {
        "colab": {
          "base_uri": "https://localhost:8080/"
        },
        "id": "GxCuIorwkKFs",
        "outputId": "d8a93d51-6149-4a90-e8ae-1a24d5f11fdc"
      },
      "execution_count": null,
      "outputs": [
        {
          "output_type": "stream",
          "name": "stdout",
          "text": [
            "[1] \"O número  2 é par!\"\n"
          ]
        }
      ]
    },
    {
      "cell_type": "code",
      "source": [
        "verificar_paridade(1777)"
      ],
      "metadata": {
        "colab": {
          "base_uri": "https://localhost:8080/"
        },
        "id": "B_z4UhyJkLg4",
        "outputId": "83854b54-3c6a-413c-9f58-c8a38e5cd3e5"
      },
      "execution_count": null,
      "outputs": [
        {
          "output_type": "stream",
          "name": "stdout",
          "text": [
            "[1] \"O número  1777 é ímpar!\"\n"
          ]
        }
      ]
    },
    {
      "cell_type": "code",
      "source": [
        "qntd_players_team <- function(team){\n",
        "  qntd_players <- length(team)\n",
        "  print(paste(\"Quantidade de jogadores: \", qntd_players))\n",
        "\n",
        "if (qntd_players>= 25){\n",
        "    print(\"Quantidade de jogadores maior que a permitida\")\n",
        "}else if (qntd_players >= 20){\n",
        "    print(\"Quantidade de jogadores permitida\")\n",
        "}else{\n",
        "    print(\"Quantidade de jogadores menor que a necessária\")\n",
        "}\n",
        "}"
      ],
      "metadata": {
        "id": "aHAFd0rRkUdt"
      },
      "execution_count": null,
      "outputs": []
    },
    {
      "cell_type": "code",
      "source": [
        "players <- c(\"DelaCruz\",\"Fábio Luciano\",\"Leonardo\",\"Pedro\",\"Rogerio Ceni\", \"Taffarell\", \"William bigode\", \"Ronaldinho Gaúcho\", \"Ronaldinho\", \"Neymar\", \"Vini Jr\", \"Rodrygo\", \"Arrascaeta\", \"Gabigol\", \"Leo Moura\", \"David Luiz\", \"Roberto Carlos\", \"Kaká\", \"Messi\", \"CR7\",\"Lucio\",\"Ronaldo Angelim\", \"Zico\", \"Junior\")\n",
        "length(players)\n",
        "qntd_players_team(players)"
      ],
      "metadata": {
        "colab": {
          "base_uri": "https://localhost:8080/",
          "height": 69
        },
        "id": "uY5-nAMVlT2W",
        "outputId": "ddb09576-46fb-448d-a2df-70bf42f5741e"
      },
      "execution_count": null,
      "outputs": [
        {
          "output_type": "display_data",
          "data": {
            "text/html": [
              "24"
            ],
            "text/markdown": "24",
            "text/latex": "24",
            "text/plain": [
              "[1] 24"
            ]
          },
          "metadata": {}
        },
        {
          "output_type": "stream",
          "name": "stdout",
          "text": [
            "[1] \"Quantidade de jogadores:  24\"\n",
            "[1] \"Quantidade de jogadores permitida\"\n"
          ]
        }
      ]
    }
  ]
}